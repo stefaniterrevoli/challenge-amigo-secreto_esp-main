{
  "cells": [
    {
      "cell_type": "markdown",
      "metadata": {
        "id": "view-in-github",
        "colab_type": "text"
      },
      "source": [
        "<a href=\"https://colab.research.google.com/github/stefaniterrevoli/challenge-amigo-secreto_esp-main/blob/master/Jupiternotebook.ipynb\" target=\"_parent\"><img src=\"https://colab.research.google.com/assets/colab-badge.svg\" alt=\"Open In Colab\"/></a>"
      ]
    },
    {
      "cell_type": "markdown",
      "id": "020d0efb-9956-41e6-acfb-4f001cf81b19",
      "metadata": {
        "id": "020d0efb-9956-41e6-acfb-4f001cf81b19"
      },
      "source": [
        "Ejercicio 2: Crear una celda de markdown con el título del cuaderno\n",
        "# Jupiternotebook.ipynb"
      ]
    },
    {
      "cell_type": "markdown",
      "id": "d26bcc07-a088-4c0c-acdf-72f7746456d6",
      "metadata": {
        "id": "d26bcc07-a088-4c0c-acdf-72f7746456d6"
      },
      "source": [
        "## Ejercicio 3 - Crear una celda de markdown para una introducción\n",
        "\n",
        "se observara lo visto durante el curso."
      ]
    },
    {
      "cell_type": "markdown",
      "id": "d7b6796e-229f-4e3d-a125-ea176cce18d5",
      "metadata": {
        "id": "d7b6796e-229f-4e3d-a125-ea176cce18d5"
      },
      "source": [
        "## Ejercicio 4 - Crear una celda de markdown para listar lenguajes de ciencia de datos\n",
        "\n",
        "Alguno de los lenguajes de programación vistos y mas populares entre cientificos de datos durante el curso han sido:\n",
        "\n",
        "* Python\n",
        "* Java\n",
        "* R\n",
        "* C++\n",
        "* C"
      ]
    },
    {
      "cell_type": "markdown",
      "id": "6913bf22-ba99-47ff-9ec7-6f90e5ecf507",
      "metadata": {
        "id": "6913bf22-ba99-47ff-9ec7-6f90e5ecf507"
      },
      "source": [
        "## Ejercicio 5 - Crear una celda de markdown para listar bibliotecas de ciencia de datos\n",
        "\n",
        "Algunas de las bibliotecas comúnmente utilizadas por los cientificos de datos incluyen:\n",
        "\n",
        "* Pandas\n",
        "* Numpy\n",
        "* Matplotlib"
      ]
    },
    {
      "cell_type": "markdown",
      "id": "ed92888e-16a8-4665-bb43-25c98c39b512",
      "metadata": {
        "id": "ed92888e-16a8-4665-bb43-25c98c39b512"
      },
      "source": [
        "## Ejercicio 6 - Tabla de herramientas de Ciencia de Datos\n",
        "\n",
        "| Herramienta          | Descripción                                |\n",
        "|----------------------|--------------------------------------------|\n",
        "| Jupyter Notebook     | Entorno interactivo para código y análisis |\n",
        "| RStudio              | IDE para R                                 |\n",
        "| Google Colab         | Jupyter en la nube de Google               |\n",
        "| Tableau              | Plataforma de visualización de datos       |"
      ]
    },
    {
      "cell_type": "markdown",
      "id": "48dd88db-aa35-452a-ae04-5c67a19e962c",
      "metadata": {
        "id": "48dd88db-aa35-452a-ae04-5c67a19e962c"
      },
      "source": [
        "## Ejercicio 7 - Crear una celda de markdown introduciendo ejemplos de expresiones aritméticas\n",
        "\n",
        "### A continuación, se presentan algunos ejemplos de evaluación de expresiones aritméticas en Python\n",
        "\n",
        "- Suma: 2+2\n",
        "- Resta: 6-3\n",
        "- Multiplicación: 5*5\n",
        "- División: 50/10"
      ]
    },
    {
      "cell_type": "markdown",
      "id": "e36541d8-71f2-478e-a81e-7dc78a85608e",
      "metadata": {
        "id": "e36541d8-71f2-478e-a81e-7dc78a85608e"
      },
      "source": [
        "## Ejercicio 8 - Multiplicar y sumar números"
      ]
    },
    {
      "cell_type": "code",
      "execution_count": 2,
      "id": "f57b443f-011a-4149-8d97-1ccf5ebdb2ee",
      "metadata": {
        "colab": {
          "base_uri": "https://localhost:8080/"
        },
        "id": "f57b443f-011a-4149-8d97-1ccf5ebdb2ee",
        "outputId": "e6ea777a-2877-47f5-9418-a0d558186521"
      },
      "outputs": [
        {
          "output_type": "stream",
          "name": "stdout",
          "text": [
            "aritmética simple para multiplicar y luego sumar enteros: (3*4)+5\n",
            "17\n"
          ]
        }
      ],
      "source": [
        "print(\"aritmética simple para multiplicar y luego sumar enteros: (3*4)+5\")\n",
        "print((3*4)+5)"
      ]
    },
    {
      "cell_type": "markdown",
      "id": "cab81b70-1246-4cde-95bc-d779258b0600",
      "metadata": {
        "id": "cab81b70-1246-4cde-95bc-d779258b0600"
      },
      "source": [
        "## Ejercicio 9 - Crear una celda de código para convertir minutos a horas"
      ]
    },
    {
      "cell_type": "code",
      "execution_count": null,
      "id": "12f5e5ba-eb21-4f9e-9cac-1a934bf3ebb6",
      "metadata": {
        "id": "12f5e5ba-eb21-4f9e-9cac-1a934bf3ebb6",
        "outputId": "6bf95912-476b-451f-e1e4-6bed6b6c4dd0"
      },
      "outputs": [
        {
          "name": "stdout",
          "output_type": "stream",
          "text": [
            "200 minutos son 3.3333333333333335 horas\n"
          ]
        }
      ],
      "source": [
        "min = 200\n",
        "h = min / 60\n",
        "print(f\"{min} minutos son {h} horas\")"
      ]
    },
    {
      "cell_type": "markdown",
      "id": "090ead6a-01cc-4daf-a52c-21970059cc1b",
      "metadata": {
        "id": "090ead6a-01cc-4daf-a52c-21970059cc1b"
      },
      "source": [
        "## Ejercicio 10 - Lista de objetivos\n",
        "- Aprender mas sobre la ciencia de datos de forma practica\n",
        "- Comprender y asimilar la gran cantidad de herramientas en el campo para el desarrollo de la ciencia de datos\n",
        "- El uso de distinto lenguajes para desempeñarse en la ciencia de datos\n",
        "- El uso de herramientas para el trabajo en equipo para un optimo desarrollo y aplicación en las ciencia de datos"
      ]
    },
    {
      "cell_type": "markdown",
      "id": "734dc3e1-6384-48c1-b2d8-312844c76a1d",
      "metadata": {
        "id": "734dc3e1-6384-48c1-b2d8-312844c76a1d"
      },
      "source": [
        "## Ejercicio 11 - Crear una celda de markdown para indicar el nombre del autor\n",
        "STEFANI DANIELA TERREVOLI PACHECO"
      ]
    }
  ],
  "metadata": {
    "kernelspec": {
      "display_name": "Python 3 (ipykernel)",
      "language": "python",
      "name": "python3"
    },
    "language_info": {
      "codemirror_mode": {
        "name": "ipython",
        "version": 3
      },
      "file_extension": ".py",
      "mimetype": "text/x-python",
      "name": "python",
      "nbconvert_exporter": "python",
      "pygments_lexer": "ipython3",
      "version": "3.12.8"
    },
    "colab": {
      "provenance": [],
      "include_colab_link": true
    }
  },
  "nbformat": 4,
  "nbformat_minor": 5
}